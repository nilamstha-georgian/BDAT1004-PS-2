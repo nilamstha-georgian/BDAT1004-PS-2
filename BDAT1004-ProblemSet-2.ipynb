{
 "cells": [
  {
   "cell_type": "markdown",
   "id": "83a47a22",
   "metadata": {},
   "source": [
    "# Problem Set 2\n",
    "\n",
    "This problem set is based on lectures 4,5 and 6. For a complete list of topics please consult page 2 of the course syllabus. Please consult the “Instructions for Problem Set Submission\n",
    "\n",
    "Question 1\n",
    "Consider the following Python module:\n",
    "a = 0\n",
    "def b():\n",
    "global a\n",
    "a = c(a)\n",
    "def c(a):\n",
    "return a + 2\n",
    "After importing the module into the interpreter, you execute:\n",
    ">>> b()\n",
    ">>> b()\n",
    ">>> b()\n",
    ">>> a\n",
    "?\n",
    "\n",
    "What value is displayed when the last expression (a) is evaluated? Explain your answer by indicating what happens in every executed statement.\n"
   ]
  },
  {
   "cell_type": "code",
   "execution_count": 35,
   "id": "89a72255",
   "metadata": {},
   "outputs": [
    {
     "data": {
      "text/plain": [
       "6"
      ]
     },
     "execution_count": 35,
     "metadata": {},
     "output_type": "execute_result"
    }
   ],
   "source": [
    "a = 0\n",
    "\n",
    "def b():\n",
    "    global a\n",
    "    a= c(a)\n",
    "    \n",
    "def c(a):\n",
    "    return a+2\n",
    "b() \n",
    "b() \n",
    "b() \n",
    "a"
   ]
  },
  {
   "cell_type": "markdown",
   "id": "3f8a4375",
   "metadata": {},
   "source": [
    "When the last expression (a) is evaluated, 6 will be displayed.\n",
    "\n",
    "Steps for execuated statement\n",
    "\n",
    "1. a = 0 #a variable is initialized with value 0\n",
    "2. def b() # function b is defined\n",
    "3. global a #global variable a is declared inside function a\n",
    "4. a= c(a) in the function, c(a) function with the current value of a, which is 0. 'c(a)' adds 2 to the current value of 'a', so a is updated to 0 + 2, which is 2.\n",
    "a = c(a)  # Now 'a' is updated to 2\n",
    "5. b() is called again. The function is executed again and the same process repeats\n",
    "6. b() is once again called. a is updated from 4 to 6\n",
    "7. At the end, a is evalueted after 3 calls to b(). a now holds 6. So, 6 is displayed"
   ]
  },
  {
   "cell_type": "markdown",
   "id": "fa8746b6",
   "metadata": {},
   "source": [
    "Question 2 \n",
    "\n",
    "Function fileLength(), given to you, takes the name of a file as input and returns the length of the file"
   ]
  },
  {
   "cell_type": "code",
   "execution_count": 36,
   "id": "61428722",
   "metadata": {},
   "outputs": [
    {
     "name": "stdout",
     "output_type": "stream",
     "text": [
      "123\n"
     ]
    }
   ],
   "source": [
    "def file_length(file_name):\n",
    "    file = open(file_name)\n",
    "    contents = file.read()\n",
    "    file.close()\n",
    "    print(len(contents))\n",
    "file_length(\"C:/Users/User/Desktop/Filelength.txt\")"
   ]
  },
  {
   "cell_type": "code",
   "execution_count": 29,
   "id": "c416c5cc",
   "metadata": {},
   "outputs": [
    {
     "name": "stdout",
     "output_type": "stream",
     "text": [
      "The file ideterm.py was not found\n"
     ]
    }
   ],
   "source": [
    "def file_length(file_name):\n",
    "    try:\n",
    "        file = open(file_name)\n",
    "        content = file.read()\n",
    "        file.close()\n",
    "        print(len(contents))\n",
    "    except FileNotFoundError:\n",
    "        print(\"The file {} was not found\".format(file_name))\n",
    "file_length(\"ideterm.py\")"
   ]
  },
  {
   "cell_type": "markdown",
   "id": "019a190b",
   "metadata": {},
   "source": [
    "Question 3 \n",
    "\n",
    "Write a class named Marsupial that can be used as shown below:"
   ]
  },
  {
   "cell_type": "code",
   "execution_count": 31,
   "id": "6fd0aa49",
   "metadata": {},
   "outputs": [
    {
     "name": "stdout",
     "output_type": "stream",
     "text": [
      "['doll', 'firetruck', 'kitten']\n"
     ]
    }
   ],
   "source": [
    "class Marsupial:\n",
    "    def __init__(self):\n",
    "        self.pouch = []\n",
    "\n",
    "    def put_in_pouch(self, item):\n",
    "        self.pouch.append(item)\n",
    "\n",
    "    def pouch_contents(self):\n",
    "        return self.pouch\n",
    "\n",
    "m = Marsupial()\n",
    "m.put_in_pouch('doll')\n",
    "m.put_in_pouch('firetruck')\n",
    "m.put_in_pouch('kitten')\n",
    "print(m.pouch_contents()) "
   ]
  },
  {
   "cell_type": "markdown",
   "id": "bb58f357",
   "metadata": {},
   "source": [
    "Now write a class named Kangaroo as a subclass of Marsupial that inherits all the attributes of Marsupial and also:\n",
    "a. extends the Marsupial __init__ constructor to take, as input, the coordinates x and y of the Kangaroo object,\n",
    "b. supports method jump that takes number values dx and dy as input and moves the kangaroo by dx units along the x-axis and by dy units along the y-axis, and\n",
    "c. overloads the __str__ operator so it behaves as shown below."
   ]
  },
  {
   "cell_type": "code",
   "execution_count": 32,
   "id": "95745800",
   "metadata": {},
   "outputs": [
    {
     "name": "stdout",
     "output_type": "stream",
     "text": [
      "I am a Kangaroo located at coordinates (0,0)\n"
     ]
    }
   ],
   "source": [
    "class Kangaroo(Marsupial):\n",
    "    def __init__(self, x, y):\n",
    "        super().__init__()\n",
    "        self.x = x\n",
    "        self.y = y\n",
    "\n",
    "    def jump(self, dx, dy):\n",
    "        self.x += dx\n",
    "        self.y += dy\n",
    "\n",
    "    def __str__(self):\n",
    "        return f\"I am a Kangaroo located at coordinates ({self.x},{self.y})\"\n",
    "    \n",
    "k = Kangaroo(0, 0)\n",
    "print(k) \n"
   ]
  },
  {
   "cell_type": "code",
   "execution_count": 33,
   "id": "fd6ccf6b",
   "metadata": {},
   "outputs": [
    {
     "name": "stdout",
     "output_type": "stream",
     "text": [
      "['doll', 'firetruck', 'kitten']\n"
     ]
    }
   ],
   "source": [
    "k.put_in_pouch('doll')\n",
    "k.put_in_pouch('firetruck')\n",
    "k.put_in_pouch('kitten')\n",
    "print(k.pouch_contents()) "
   ]
  },
  {
   "cell_type": "code",
   "execution_count": 34,
   "id": "b0815e6b",
   "metadata": {},
   "outputs": [
    {
     "name": "stdout",
     "output_type": "stream",
     "text": [
      "I am a Kangaroo located at coordinates (6,0)\n"
     ]
    }
   ],
   "source": [
    "k.jump(1, 0)\n",
    "k.jump(1, 0)\n",
    "k.jump(1, 0)\n",
    "print(k) "
   ]
  },
  {
   "cell_type": "markdown",
   "id": "2a38bf23",
   "metadata": {},
   "source": [
    "Question 4\n",
    "\n",
    "Write function collatz() that takes a positive integer x as input and prints the Collatz sequence starting at x. A Collatz sequence is obtained by repeatedly applying this rule to the previous number x in the sequence:\n",
    "x = { 𝑥/2 𝑖𝑓 𝑥 𝑖𝑠 𝑒𝑣𝑒𝑛3𝑥+1 𝑖𝑓 𝑥 𝑖𝑠 𝑜𝑑𝑑\n",
    "Your function should stop when the sequence gets to number 1. Your implementation must be recursive, without any loops."
   ]
  },
  {
   "cell_type": "code",
   "execution_count": 33,
   "id": "44a2b590",
   "metadata": {},
   "outputs": [
    {
     "name": "stdout",
     "output_type": "stream",
     "text": [
      "1\n"
     ]
    }
   ],
   "source": [
    "def collatz(x):\n",
    "    print(x)\n",
    "    if x == 1:\n",
    "        return\n",
    "    elif x % 2 == 0:\n",
    "        collatz(x // 2)\n",
    "    else:\n",
    "        collatz(3 * x + 1)\n",
    "\n",
    "collatz(1)"
   ]
  },
  {
   "cell_type": "code",
   "execution_count": 37,
   "id": "4b13e9d4",
   "metadata": {},
   "outputs": [
    {
     "name": "stdout",
     "output_type": "stream",
     "text": [
      "10\n",
      "5\n",
      "16\n",
      "8\n",
      "4\n",
      "2\n",
      "1\n"
     ]
    }
   ],
   "source": [
    "collatz(10)"
   ]
  },
  {
   "cell_type": "markdown",
   "id": "9d50d332",
   "metadata": {},
   "source": [
    "Question 5 \n",
    "\n",
    "Write a recursive method binary() that takes a non-negative integer n and prints the binary representation of integer n. >>> binary(0) 0 >>> binary(1) 1 >>> binary(3) 11 >>> binary(9) 1001"
   ]
  },
  {
   "cell_type": "code",
   "execution_count": 34,
   "id": "fdb912f2",
   "metadata": {},
   "outputs": [
    {
     "name": "stdout",
     "output_type": "stream",
     "text": [
      "Enter a non-negative integer: 3\n",
      "The binary representation of 3 is: 11\n"
     ]
    }
   ],
   "source": [
    "def binary(n):\n",
    "    if n > 1:\n",
    "        binary(n // 2)\n",
    "    print(n % 2, end=\"\")\n",
    "\n",
    "# Get user input for a non-negative integer\n",
    "try:\n",
    "    user_input = int(input(\"Enter a non-negative integer: \"))\n",
    "    if user_input < 0:\n",
    "        print(\"Please enter a non-negative integer.\")\n",
    "    else:\n",
    "        print(f\"The binary representation of {user_input} is: \", end=\"\")\n",
    "        binary(user_input)\n",
    "        print()\n",
    "except ValueError:\n",
    "    print(\"Invalid input. Please enter a non-negative integer.\")"
   ]
  },
  {
   "cell_type": "markdown",
   "id": "94e353e3",
   "metadata": {},
   "source": [
    "Question 6\n",
    "\n",
    "Implement a class named HeadingParser that can be used to parse an HTML document, and retrieve and print all the headings in the document. You should implement your class as a subclass of HTMLParser, defined in Standard Library module html.parser. When fed a string containing HTML code, your class should print the headings, one per line and in the order in which they appear in the document. Each heading should be indented as follows: an h1 heading should have indentation 0, and h2 heading should have indentation 1, etc. Test your implementation using w3c.html."
   ]
  },
  {
   "cell_type": "code",
   "execution_count": 44,
   "id": "2b9a9ee3",
   "metadata": {},
   "outputs": [
    {
     "name": "stdout",
     "output_type": "stream",
     "text": [
      "W3C Mission\n",
      " Principles\n"
     ]
    }
   ],
   "source": [
    "from html.parser import HTMLParser\n",
    "\n",
    "class HeadingParser(HTMLParser):\n",
    "    def __init__(self):\n",
    "        super().__init__()\n",
    "        self.inside_heading = False\n",
    "        self.indentation_level = 0\n",
    "        self.headings = []\n",
    "\n",
    "    def handle_starttag(self, tag, attrs):\n",
    "        if tag.startswith(\"h\") and tag[1:].isdigit():\n",
    "            self.inside_heading = True\n",
    "            self.indentation_level = int(tag[1]) - 1\n",
    "\n",
    "    def handle_endtag(self, tag):\n",
    "        if self.inside_heading:\n",
    "            self.inside_heading = False\n",
    "\n",
    "    def handle_data(self, data):\n",
    "        if self.inside_heading:\n",
    "            indentation = \" \" * self.indentation_level\n",
    "            self.headings.append(f\"{indentation}{data}\")\n",
    "\n",
    "    def print_headings(self):\n",
    "        for heading in self.headings:\n",
    "            print(heading)\n",
    "\n",
    "# Specify the full path to the 'w3c.html' file on your desktop\n",
    "desktop_path = r'C:\\Users\\User\\Desktop\\w3c.html'  # Replace 'YourUsername' with your actual username\n",
    "\n",
    "# Open and read the 'w3c.html' file from the desktop\n",
    "with open(desktop_path, 'r') as infile:\n",
    "    content = infile.read()\n",
    "\n",
    "hp = HeadingParser()\n",
    "hp.feed(content)\n",
    "hp.print_headings()\n",
    "\n"
   ]
  },
  {
   "cell_type": "markdown",
   "id": "801565e0",
   "metadata": {},
   "source": [
    "Question 7 Implement recursive function webdir() that takes as input: a URL (as a string) and non-negative integers depth and indent. Your function should visit every web page reachable from the starting URL web page in depth clicks or less, and print each web page's URL. As shown below, indentation,"
   ]
  },
  {
   "cell_type": "code",
   "execution_count": 13,
   "id": "db981a81",
   "metadata": {},
   "outputs": [
    {
     "name": "stdout",
     "output_type": "stream",
     "text": [
      "Error accessing http://reed.cs.depaul.edu/lperkovic/csc242/test1.html: 404 Client Error:  for url: http://reed.cs.depaul.edu/lperkovic/csc242/test1.html\n",
      "Error accessing http://reed.cs.depaul.edu/lperkovic/csc242/test2.html: 404 Client Error:  for url: http://reed.cs.depaul.edu/lperkovic/csc242/test2.html\n",
      "Error accessing http://reed.cs.depaul.edu/lperkovic/csc242/test3.html: 404 Client Error:  for url: http://reed.cs.depaul.edu/lperkovic/csc242/test3.html\n",
      "Error accessing http://reed.cs.depaul.edu/lperkovic/csc242/test4.html: 404 Client Error:  for url: http://reed.cs.depaul.edu/lperkovic/csc242/test4.html\n"
     ]
    }
   ],
   "source": [
    "import requests\n",
    "from bs4 import BeautifulSoup\n",
    "from urllib.parse import urljoin\n",
    "\n",
    "def webdir(urls, depth, visited=set(), indent=0):\n",
    "    if depth < 0:\n",
    "        return\n",
    "\n",
    "    for url in urls:\n",
    "        if url in visited:\n",
    "            continue\n",
    "        visited.add(url)\n",
    "\n",
    "        try:\n",
    "            response = requests.get(url)\n",
    "            response.raise_for_status()\n",
    "            soup = BeautifulSoup(response.text, 'html.parser')\n",
    "            print(' ' * indent + url)\n",
    "\n",
    "            if depth > 0:\n",
    "                for link in soup.find_all('a'):\n",
    "                    href = link.get('href')\n",
    "                    if href.endswith('.html'):\n",
    "                        next_url = urljoin(url, href) \n",
    "                        webdir([next_url], depth - 1, visited, indent + 2)\n",
    "\n",
    "        except Exception as e:\n",
    "            print(' ' * indent + f\"Error accessing {url}: {str(e)}\")\n",
    "\n",
    "# Listing of URLs\n",
    "starting_urls = [\n",
    "    'http://reed.cs.depaul.edu/lperkovic/csc242/test1.html',\n",
    "    'http://reed.cs.depaul.edu/lperkovic/csc242/test2.html',\n",
    "    'http://reed.cs.depaul.edu/lperkovic/csc242/test3.html',\n",
    "    'http://reed.cs.depaul.edu/lperkovic/csc242/test4.html',\n",
    "]\n",
    "\n",
    "# Example usage with the list of starting URLs\n",
    "webdir(starting_urls, 2)\n"
   ]
  },
  {
   "cell_type": "markdown",
   "id": "ffa397f2",
   "metadata": {},
   "source": [
    "Question 8\n",
    "\n",
    "Write SQL queries on the below database table that return:\n",
    "a) All the temperature data.\n",
    "b) All the cities, but without repetition.\n",
    "c) All the records for India.\n",
    "d) All the Fall records.\n",
    "e) The city, country, and season for which the average rainfall is between 200 and 400 millimeters.\n",
    "f) The city and country for which the average Fall temperature is above 20 degrees, in increasing temperature order.\n",
    "g) The total annual rainfall for Cairo.\n",
    "h) The total rainfall for each season."
   ]
  },
  {
   "cell_type": "code",
   "execution_count": 10,
   "id": "d38428bb",
   "metadata": {},
   "outputs": [
    {
     "name": "stdout",
     "output_type": "stream",
     "text": [
      "a) All the temperature data:\n",
      "[(24.8,), (28.4,), (27.9,), (27.6,), (4.2,), (8.3,), (15.7,), (10.4,), (13.6,), (20.7,), (27.7,), (22.2,)]\n",
      "\n",
      "b) All the cities, but without repetition:\n",
      "[('Mumbai',), ('London',), ('Cairo',)]\n",
      "\n",
      "c) All the records for India:\n",
      "[('Mumbai', 'India', 'Winter', 24.8, 5.9), ('Mumbai', 'India', 'Spring', 28.4, 16.2), ('Mumbai', 'India', 'Summer', 27.9, 1549.4), ('Mumbai', 'India', 'Fall', 27.6, 346.0)]\n",
      "\n",
      "d) All the Fall records:\n",
      "[('Mumbai', 'India', 'Fall', 27.6, 346.0), ('London', 'United Kingdom', 'Fall', 10.4, 218.5), ('Cairo', 'Egypt', 'Fall', 22.2, 4.5)]\n",
      "\n",
      "e) The city, country, and season for which the average rainfall is between 200 and 400 millimeters:\n",
      "[('London', 'United Kingdom', 'Fall'), ('London', 'United Kingdom', 'Winter'), ('Mumbai', 'India', 'Fall')]\n",
      "\n",
      "f) The city and country for which the average Fall temperature is above 20 degrees, in increasing temperature order:\n",
      "[('Cairo', 'Egypt'), ('Mumbai', 'India')]\n",
      "\n",
      "g) The total annual rainfall for Cairo:\n",
      "27.6\n",
      "\n",
      "h) The total rainfall for each season:\n",
      "[('Fall', 569.0), ('Spring', 192.29999999999998), ('Summer', 1706.5), ('Winter', 230.1)]\n"
     ]
    }
   ],
   "source": [
    "# Importing the necessary libraries\n",
    "import sqlite3\n",
    "\n",
    "# Connecting to an in-memory SQLite database\n",
    "conn = sqlite3.connect(':memory:')\n",
    "\n",
    "# Creating a cursor to execute SQL queries\n",
    "cursor = conn.cursor()\n",
    "\n",
    "# Creating a table to store the data\n",
    "cursor.execute('''CREATE TABLE WeatherData (\n",
    "                  City TEXT,\n",
    "                  Country TEXT,\n",
    "                  Season TEXT,\n",
    "                  Temperature REAL,\n",
    "                  Rainfall REAL\n",
    "                )''')\n",
    "\n",
    "# Inserting data into the table using INSERT statements\n",
    "data_to_insert = [\n",
    "    ('Mumbai', 'India', 'Winter', 24.8, 5.9),\n",
    "    ('Mumbai', 'India', 'Spring', 28.4, 16.2),\n",
    "    ('Mumbai', 'India', 'Summer', 27.9, 1549.4),\n",
    "    ('Mumbai', 'India', 'Fall', 27.6, 346.0),\n",
    "    ('London', 'United Kingdom', 'Winter', 4.2, 207.7),\n",
    "    ('London', 'United Kingdom', 'Spring', 8.3, 169.6),\n",
    "    ('London', 'United Kingdom', 'Summer', 15.7, 157.0),\n",
    "    ('London', 'United Kingdom', 'Fall', 10.4, 218.5),\n",
    "    ('Cairo', 'Egypt', 'Winter', 13.6, 16.5),\n",
    "    ('Cairo', 'Egypt', 'Spring', 20.7, 6.5),\n",
    "    ('Cairo', 'Egypt', 'Summer', 27.7, 0.1),\n",
    "    ('Cairo', 'Egypt', 'Fall', 22.2, 4.5)\n",
    "]\n",
    "\n",
    "for data in data_to_insert:\n",
    "    cursor.execute(\"INSERT INTO WeatherData (City, Country, Season, Temperature, Rainfall) VALUES (?, ?, ?, ?, ?)\", data)\n",
    "\n",
    "conn.commit()\n",
    "\n",
    "# a) All the temperature data\n",
    "cursor.execute(\"SELECT Temperature FROM WeatherData\")\n",
    "result_a = cursor.fetchall()\n",
    "print(\"a) All the temperature data:\")\n",
    "print(result_a)\n",
    "\n",
    "# b) All the cities, but without repetition\n",
    "cursor.execute(\"SELECT DISTINCT City FROM WeatherData\")\n",
    "result_b = cursor.fetchall()\n",
    "print(\"\\nb) All the cities, but without repetition:\")\n",
    "print(result_b)\n",
    "\n",
    "# c) All the records for India\n",
    "cursor.execute(\"SELECT * FROM WeatherData WHERE Country = 'India'\")\n",
    "result_c = cursor.fetchall()\n",
    "print(\"\\nc) All the records for India:\")\n",
    "print(result_c)\n",
    "\n",
    "# d) All the Fall records\n",
    "cursor.execute(\"SELECT * FROM WeatherData WHERE Season = 'Fall'\")\n",
    "result_d = cursor.fetchall()\n",
    "print(\"\\nd) All the Fall records:\")\n",
    "print(result_d)\n",
    "\n",
    "# e) The city, country, and season for which the average rainfall is between 200 and 400 millimeters\n",
    "cursor.execute(\"SELECT City, Country, Season FROM WeatherData GROUP BY City, Country, Season HAVING AVG(Rainfall) BETWEEN 200 AND 400\")\n",
    "result_e = cursor.fetchall()\n",
    "print(\"\\ne) The city, country, and season for which the average rainfall is between 200 and 400 millimeters:\")\n",
    "print(result_e)\n",
    "\n",
    "# f) The city and country for which the average Fall temperature is above 20 degrees, in increasing temperature order\n",
    "cursor.execute(\"SELECT City, Country FROM WeatherData WHERE Season = 'Fall' GROUP BY City, Country HAVING AVG(Temperature) > 20 ORDER BY AVG(Temperature) ASC\")\n",
    "result_f = cursor.fetchall()\n",
    "print(\"\\nf) The city and country for which the average Fall temperature is above 20 degrees, in increasing temperature order:\")\n",
    "print(result_f)\n",
    "\n",
    "# g) The total annual rainfall for Cairo\n",
    "cursor.execute(\"SELECT SUM(Rainfall) FROM WeatherData WHERE City = 'Cairo'\")\n",
    "result_g = cursor.fetchone()[0]\n",
    "print(\"\\ng) The total annual rainfall for Cairo:\")\n",
    "print(result_g)\n",
    "\n",
    "# h) The total rainfall for each season\n",
    "cursor.execute(\"SELECT Season, SUM(Rainfall) FROM WeatherData GROUP BY Season\")\n",
    "result_h = cursor.fetchall()\n",
    "print(\"\\nh) The total rainfall for each season:\")\n",
    "print(result_h)\n",
    "\n",
    "# Close the database connection\n",
    "conn.close()\n"
   ]
  },
  {
   "cell_type": "markdown",
   "id": "45bdb59e",
   "metadata": {},
   "source": [
    "Question 9\n",
    ". Suppose list words is defined as follows:\n",
    ">>> words = ['The', 'quick', 'brown', 'fox', 'jumps', 'over', 'the', 'lazy', 'dog']\n",
    "Write list comprehension expressions that use list words and generate the following lists:\n",
    "a) ['THE', 'QUICK', 'BROWN', 'FOX', 'JUMPS', 'OVER', 'THE', 'LAZY', 'DOG']"
   ]
  },
  {
   "cell_type": "code",
   "execution_count": 9,
   "id": "43b4bd31",
   "metadata": {},
   "outputs": [
    {
     "data": {
      "text/plain": [
       "['THE', 'QUICK', 'BROWN', 'FOX', 'JUMPS', 'OVER', 'THE', 'LAZY', 'DOG']"
      ]
     },
     "execution_count": 9,
     "metadata": {},
     "output_type": "execute_result"
    }
   ],
   "source": [
    "# Defining the list of words\n",
    "words = ['The', 'quick', 'brown', 'fox', 'jumps', 'over', 'the', 'lazy', 'dog']\n",
    "\n",
    "# Uppercase version of each word\n",
    "upper_words = [word.upper() for word in words]\n",
    "upper_words"
   ]
  },
  {
   "cell_type": "markdown",
   "id": "2d9d0da2",
   "metadata": {},
   "source": [
    "b) ['the', 'quick', 'brown', 'fox', 'jumps', 'over', 'the', 'lazy', 'dog']"
   ]
  },
  {
   "cell_type": "code",
   "execution_count": 2,
   "id": "f262209e",
   "metadata": {},
   "outputs": [
    {
     "data": {
      "text/plain": [
       "['the', 'quick', 'brown', 'fox', 'jumps', 'over', 'the', 'lazy', 'dog']"
      ]
     },
     "execution_count": 2,
     "metadata": {},
     "output_type": "execute_result"
    }
   ],
   "source": [
    "# Lowercase for each word\n",
    "lower_words = [word.lower() for word in words]\n",
    "lower_words"
   ]
  },
  {
   "cell_type": "markdown",
   "id": "e43a4dab",
   "metadata": {},
   "source": [
    "c) [3, 5, 5, 3, 5, 4, 3, 4, 3] (the list of lengths of words in list words)."
   ]
  },
  {
   "cell_type": "code",
   "execution_count": 3,
   "id": "3082e7dd",
   "metadata": {},
   "outputs": [
    {
     "data": {
      "text/plain": [
       "[3, 5, 5, 3, 5, 4, 3, 4, 3]"
      ]
     },
     "execution_count": 3,
     "metadata": {},
     "output_type": "execute_result"
    }
   ],
   "source": [
    "# List of lengths of words\n",
    "word_lengths = [len(word) for word in words]\n",
    "word_lengths\n"
   ]
  },
  {
   "cell_type": "markdown",
   "id": "2859c466",
   "metadata": {},
   "source": [
    "d) [['THE', 'the', 3], ['QUICK', 'quick', 5], ['BROWN', 'brown', 5], ['FOX', 'fox', 3], ['JUMPS', 'jumps', 5], ['OVER', 'over', 4], ['THE', 'the', 3], ['LAZY', 'lazy', 4], ['DOG', 'dog', 3]] (the list containing a list for every word of list words, where each list contains the word in uppercase and lowercase and the length of the word.)"
   ]
  },
  {
   "cell_type": "code",
   "execution_count": 6,
   "id": "a8db84ec",
   "metadata": {},
   "outputs": [
    {
     "name": "stdout",
     "output_type": "stream",
     "text": [
      "[['THE', 'the', 3], ['QUICK', 'quick', 5], ['BROWN', 'brown', 5], ['FOX', 'fox', 3], ['JUMPS', 'jumps', 5], ['OVER', 'over', 4], ['THE', 'the', 3], ['LAZY', 'lazy', 4], ['DOG', 'dog', 3]]\n"
     ]
    }
   ],
   "source": [
    "# List of lists containing uppercase, lowercase, and length\n",
    "word_info = []\n",
    "for word in words:\n",
    "    info = [word.upper(), word.lower(), len(word)]\n",
    "    word_info.append(info)\n",
    "print(word_info)"
   ]
  },
  {
   "cell_type": "markdown",
   "id": "8fc63579",
   "metadata": {},
   "source": [
    "e) ['The', 'quick', 'brown', 'fox', 'jumps', 'over', 'the', 'lazy', 'dog'] (the list of words in list words containing 4 or more characters.)"
   ]
  },
  {
   "cell_type": "code",
   "execution_count": 8,
   "id": "9534341e",
   "metadata": {},
   "outputs": [
    {
     "data": {
      "text/plain": [
       "['quick', 'brown', 'jumps', 'over', 'lazy']"
      ]
     },
     "execution_count": 8,
     "metadata": {},
     "output_type": "execute_result"
    }
   ],
   "source": [
    "# Words with 4 or more characters\n",
    "long_words = [word for word in words if len(word) >= 4]\n",
    "long_words\n"
   ]
  },
  {
   "cell_type": "code",
   "execution_count": null,
   "id": "624fb641",
   "metadata": {},
   "outputs": [],
   "source": []
  }
 ],
 "metadata": {
  "kernelspec": {
   "display_name": "Python 3 (ipykernel)",
   "language": "python",
   "name": "python3"
  },
  "language_info": {
   "codemirror_mode": {
    "name": "ipython",
    "version": 3
   },
   "file_extension": ".py",
   "mimetype": "text/x-python",
   "name": "python",
   "nbconvert_exporter": "python",
   "pygments_lexer": "ipython3",
   "version": "3.11.4"
  }
 },
 "nbformat": 4,
 "nbformat_minor": 5
}
